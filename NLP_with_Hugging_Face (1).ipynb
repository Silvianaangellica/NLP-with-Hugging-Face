{
  "nbformat": 4,
  "nbformat_minor": 0,
  "metadata": {
    "colab": {
      "provenance": []
    },
    "kernelspec": {
      "name": "python3",
      "display_name": "Python 3"
    },
    "language_info": {
      "name": "python"
    }
  },
  "cells": [
    {
      "cell_type": "markdown",
      "source": [
        "# Let's try HuggingFace Transformers NLP Pipelines!\n"
      ],
      "metadata": {
        "id": "CztodpmQM11q"
      }
    },
    {
      "cell_type": "code",
      "source": [
        "!pip install transformers"
      ],
      "metadata": {
        "id": "6dtAhiTAMmYN",
        "colab": {
          "base_uri": "https://localhost:8080/"
        },
        "outputId": "745af193-6ce5-4005-c620-cda9f3de4f9f"
      },
      "execution_count": 20,
      "outputs": [
        {
          "output_type": "stream",
          "name": "stdout",
          "text": [
            "Requirement already satisfied: transformers in /usr/local/lib/python3.10/dist-packages (4.44.2)\n",
            "Requirement already satisfied: filelock in /usr/local/lib/python3.10/dist-packages (from transformers) (3.16.1)\n",
            "Requirement already satisfied: huggingface-hub<1.0,>=0.23.2 in /usr/local/lib/python3.10/dist-packages (from transformers) (0.24.7)\n",
            "Requirement already satisfied: numpy>=1.17 in /usr/local/lib/python3.10/dist-packages (from transformers) (1.26.4)\n",
            "Requirement already satisfied: packaging>=20.0 in /usr/local/lib/python3.10/dist-packages (from transformers) (24.1)\n",
            "Requirement already satisfied: pyyaml>=5.1 in /usr/local/lib/python3.10/dist-packages (from transformers) (6.0.2)\n",
            "Requirement already satisfied: regex!=2019.12.17 in /usr/local/lib/python3.10/dist-packages (from transformers) (2024.9.11)\n",
            "Requirement already satisfied: requests in /usr/local/lib/python3.10/dist-packages (from transformers) (2.32.3)\n",
            "Requirement already satisfied: safetensors>=0.4.1 in /usr/local/lib/python3.10/dist-packages (from transformers) (0.4.5)\n",
            "Requirement already satisfied: tokenizers<0.20,>=0.19 in /usr/local/lib/python3.10/dist-packages (from transformers) (0.19.1)\n",
            "Requirement already satisfied: tqdm>=4.27 in /usr/local/lib/python3.10/dist-packages (from transformers) (4.66.6)\n",
            "Requirement already satisfied: fsspec>=2023.5.0 in /usr/local/lib/python3.10/dist-packages (from huggingface-hub<1.0,>=0.23.2->transformers) (2024.10.0)\n",
            "Requirement already satisfied: typing-extensions>=3.7.4.3 in /usr/local/lib/python3.10/dist-packages (from huggingface-hub<1.0,>=0.23.2->transformers) (4.12.2)\n",
            "Requirement already satisfied: charset-normalizer<4,>=2 in /usr/local/lib/python3.10/dist-packages (from requests->transformers) (3.4.0)\n",
            "Requirement already satisfied: idna<4,>=2.5 in /usr/local/lib/python3.10/dist-packages (from requests->transformers) (3.10)\n",
            "Requirement already satisfied: urllib3<3,>=1.21.1 in /usr/local/lib/python3.10/dist-packages (from requests->transformers) (2.2.3)\n",
            "Requirement already satisfied: certifi>=2017.4.17 in /usr/local/lib/python3.10/dist-packages (from requests->transformers) (2024.8.30)\n"
          ]
        }
      ]
    },
    {
      "cell_type": "markdown",
      "source": [
        "Modifikasi kode, di mana menginput secara manual"
      ],
      "metadata": {
        "id": "Z2CJ1X0PTzON"
      }
    },
    {
      "cell_type": "code",
      "source": [
        "from transformers import pipeline\n",
        "\n",
        "classifier = pipeline(\"zero-shot-classification\")\n",
        "\n",
        "# Memasukkan kata : This course studies convolutional neural network algorithms in deep learning. (manual)\n",
        "text = input(\"Enter the text you want to classify: \")\n",
        "\n",
        "# Memasukkan label : technology, science, business (manual)\n",
        "labels = input(\"Enter candidate labels (comma-separated): \").split(\",\")\n",
        "\n",
        "result = classifier(text, labels)\n",
        "print(result)"
      ],
      "metadata": {
        "colab": {
          "base_uri": "https://localhost:8080/"
        },
        "id": "30hLBR60Lr3-",
        "outputId": "44f76c31-9a78-4a73-aa74-6da3ff0ae417"
      },
      "execution_count": 21,
      "outputs": [
        {
          "output_type": "stream",
          "name": "stderr",
          "text": [
            "No model was supplied, defaulted to facebook/bart-large-mnli and revision c626438 (https://huggingface.co/facebook/bart-large-mnli).\n",
            "Using a pipeline without specifying a model name and revision in production is not recommended.\n"
          ]
        },
        {
          "output_type": "stream",
          "name": "stdout",
          "text": [
            "Enter the text you want to classify: This course studies convolutional neural network algorithms in deep learning.\n",
            "Enter candidate labels (comma-separated): technology, science, business\n",
            "{'sequence': 'This course studies convolutional neural network algorithms in deep learning.', 'labels': ['technology', ' science', ' business'], 'scores': [0.7458503246307373, 0.2429073005914688, 0.011242467910051346]}\n"
          ]
        }
      ]
    },
    {
      "cell_type": "markdown",
      "source": [
        "Modifikasi Kode (1)"
      ],
      "metadata": {
        "id": "NaHBpmNlT3me"
      }
    },
    {
      "cell_type": "code",
      "source": [
        "from transformers import pipeline\n",
        "\n",
        "# Membuatkan sebuah text generation pipeline\n",
        "generator = pipeline(\"text-generation\")\n",
        "\n",
        "# Tambahkan teks yang akan di generate\n",
        "generated_text = generator(\"The impact of artificial intelligence on\")\n",
        "\n",
        "# Cetak hasil\n",
        "print(generated_text)"
      ],
      "metadata": {
        "colab": {
          "base_uri": "https://localhost:8080/"
        },
        "id": "mwUHiFX9NPPK",
        "outputId": "5bc3bc2e-d98d-48f2-edd1-e73eb85811e8"
      },
      "execution_count": 22,
      "outputs": [
        {
          "output_type": "stream",
          "name": "stderr",
          "text": [
            "No model was supplied, defaulted to openai-community/gpt2 and revision 6c0e608 (https://huggingface.co/openai-community/gpt2).\n",
            "Using a pipeline without specifying a model name and revision in production is not recommended.\n",
            "Setting `pad_token_id` to `eos_token_id`:50256 for open-end generation.\n"
          ]
        },
        {
          "output_type": "stream",
          "name": "stdout",
          "text": [
            "[{'generated_text': 'The impact of artificial intelligence on social relationships has been debated and debated over the last five to ten years, but now, with technology now more than doubling the number of individuals who actually participate on our social networks, it seems that any time you go to'}]\n"
          ]
        }
      ]
    },
    {
      "cell_type": "markdown",
      "source": [
        "Modifikasi untuk konteks/prompt (2)"
      ],
      "metadata": {
        "id": "FZgEyMKgT6rO"
      }
    },
    {
      "cell_type": "code",
      "source": [
        "from transformers import pipeline\n",
        "\n",
        "generator = pipeline(\"text-generation\", model=\"distilgpt2\")\n",
        "generator(\n",
        "    \"Negative impact of convolutional neural network algorithm on\",\n",
        "    max_length=30,\n",
        "    num_return_sequences=2,\n",
        ")"
      ],
      "metadata": {
        "id": "drVV_RinNMws",
        "colab": {
          "base_uri": "https://localhost:8080/"
        },
        "outputId": "64962c55-1015-471a-c414-d4bac4b62b38"
      },
      "execution_count": 23,
      "outputs": [
        {
          "output_type": "stream",
          "name": "stderr",
          "text": [
            "Truncation was not explicitly activated but `max_length` is provided a specific value, please use `truncation=True` to explicitly truncate examples to max length. Defaulting to 'longest_first' truncation strategy. If you encode pairs of sequences (GLUE-style) with the tokenizer you can select this strategy more precisely by providing a specific strategy to `truncation`.\n",
            "Setting `pad_token_id` to `eos_token_id`:50256 for open-end generation.\n"
          ]
        },
        {
          "output_type": "execute_result",
          "data": {
            "text/plain": [
              "[{'generated_text': 'Negative impact of convolutional neural network algorithm on the same level as the input and output of previous training (Riemann 2010) (G'},\n",
              " {'generated_text': 'Negative impact of convolutional neural network algorithm on the human brain (PFF).\\n\\n\\n\\nThe original research was funded by the National'}]"
            ]
          },
          "metadata": {},
          "execution_count": 23
        }
      ]
    },
    {
      "cell_type": "markdown",
      "source": [
        "Modifikasi Kode (1)"
      ],
      "metadata": {
        "id": "WH1MEEjCUCFg"
      }
    },
    {
      "cell_type": "code",
      "source": [
        "from transformers import pipeline\n",
        "\n",
        "# Membuat sebuah pipeline fill-mask\n",
        "predictor = pipeline(\"fill-mask\")\n",
        "\n",
        "#Memprediksi kata yang hilang (mask) dan menampilkan 2 prediksi teratas\n",
        "predictions = predictor(\"Artificial intelligence is revolutionizing the <mask>.\", top_k=2)\n",
        "\n",
        "# Mencetak prediksi\n",
        "for prediction in predictions:\n",
        "    print(prediction)"
      ],
      "metadata": {
        "colab": {
          "base_uri": "https://localhost:8080/"
        },
        "id": "WHSVZCHOPln8",
        "outputId": "8cc8287d-4355-4d83-bee6-9a63e3231a4a"
      },
      "execution_count": 24,
      "outputs": [
        {
          "output_type": "stream",
          "name": "stderr",
          "text": [
            "No model was supplied, defaulted to distilbert/distilroberta-base and revision ec58a5b (https://huggingface.co/distilbert/distilroberta-base).\n",
            "Using a pipeline without specifying a model name and revision in production is not recommended.\n",
            "Some weights of the model checkpoint at distilbert/distilroberta-base were not used when initializing RobertaForMaskedLM: ['roberta.pooler.dense.bias', 'roberta.pooler.dense.weight']\n",
            "- This IS expected if you are initializing RobertaForMaskedLM from the checkpoint of a model trained on another task or with another architecture (e.g. initializing a BertForSequenceClassification model from a BertForPreTraining model).\n",
            "- This IS NOT expected if you are initializing RobertaForMaskedLM from the checkpoint of a model that you expect to be exactly identical (initializing a BertForSequenceClassification model from a BertForSequenceClassification model).\n"
          ]
        },
        {
          "output_type": "stream",
          "name": "stdout",
          "text": [
            "{'score': 0.2158716470003128, 'token': 232, 'token_str': ' world', 'sequence': 'Artificial intelligence is revolutionizing the world.'}\n",
            "{'score': 0.17405229806900024, 'token': 7637, 'token_str': ' workplace', 'sequence': 'Artificial intelligence is revolutionizing the workplace.'}\n"
          ]
        }
      ]
    },
    {
      "cell_type": "markdown",
      "source": [
        "Modifikasi untuk prompt/konteks (2)"
      ],
      "metadata": {
        "id": "EtPWa729UG8J"
      }
    },
    {
      "cell_type": "code",
      "source": [
        "from transformers import pipeline\n",
        "\n",
        "unmasker = pipeline(\"fill-mask\")\n",
        "unmasker(\"This course marks you to quickly understand the <mask> model.\", top_k=2)"
      ],
      "metadata": {
        "id": "-Ab97He7Dd0k",
        "colab": {
          "base_uri": "https://localhost:8080/"
        },
        "outputId": "a3317ffb-ee27-4fca-c8b5-fb2bab7b7282"
      },
      "execution_count": 25,
      "outputs": [
        {
          "output_type": "stream",
          "name": "stderr",
          "text": [
            "No model was supplied, defaulted to distilbert/distilroberta-base and revision ec58a5b (https://huggingface.co/distilbert/distilroberta-base).\n",
            "Using a pipeline without specifying a model name and revision in production is not recommended.\n",
            "Some weights of the model checkpoint at distilbert/distilroberta-base were not used when initializing RobertaForMaskedLM: ['roberta.pooler.dense.bias', 'roberta.pooler.dense.weight']\n",
            "- This IS expected if you are initializing RobertaForMaskedLM from the checkpoint of a model trained on another task or with another architecture (e.g. initializing a BertForSequenceClassification model from a BertForPreTraining model).\n",
            "- This IS NOT expected if you are initializing RobertaForMaskedLM from the checkpoint of a model that you expect to be exactly identical (initializing a BertForSequenceClassification model from a BertForSequenceClassification model).\n"
          ]
        },
        {
          "output_type": "execute_result",
          "data": {
            "text/plain": [
              "[{'score': 0.06939765065908432,\n",
              "  'token': 30412,\n",
              "  'token_str': ' mathematical',\n",
              "  'sequence': 'This course marks you to quickly understand the mathematical model.'},\n",
              " {'score': 0.06163202226161957,\n",
              "  'token': 39974,\n",
              "  'token_str': ' regression',\n",
              "  'sequence': 'This course marks you to quickly understand the regression model.'}]"
            ]
          },
          "metadata": {},
          "execution_count": 25
        }
      ]
    },
    {
      "cell_type": "markdown",
      "source": [
        "Modifikasi Kode (1)"
      ],
      "metadata": {
        "id": "5-p69WnBUNDk"
      }
    },
    {
      "cell_type": "code",
      "source": [
        "from transformers import pipeline\n",
        "\n",
        "text = \"Barack Obama was born in Honolulu.\"\n",
        "ner_results = pipeline(\"ner\", grouped_entities=True)(text)\n",
        "\n",
        "for entity in ner_results:\n",
        "    print(f\"{entity['entity_group']}: {entity['word']}\")"
      ],
      "metadata": {
        "colab": {
          "base_uri": "https://localhost:8080/"
        },
        "id": "z5XN7f1NQ69Y",
        "outputId": "dbd2c3de-d0f7-4f9a-a79f-7098abf05d8e"
      },
      "execution_count": 26,
      "outputs": [
        {
          "output_type": "stream",
          "name": "stderr",
          "text": [
            "No model was supplied, defaulted to dbmdz/bert-large-cased-finetuned-conll03-english and revision f2482bf (https://huggingface.co/dbmdz/bert-large-cased-finetuned-conll03-english).\n",
            "Using a pipeline without specifying a model name and revision in production is not recommended.\n",
            "Some weights of the model checkpoint at dbmdz/bert-large-cased-finetuned-conll03-english were not used when initializing BertForTokenClassification: ['bert.pooler.dense.bias', 'bert.pooler.dense.weight']\n",
            "- This IS expected if you are initializing BertForTokenClassification from the checkpoint of a model trained on another task or with another architecture (e.g. initializing a BertForSequenceClassification model from a BertForPreTraining model).\n",
            "- This IS NOT expected if you are initializing BertForTokenClassification from the checkpoint of a model that you expect to be exactly identical (initializing a BertForSequenceClassification model from a BertForSequenceClassification model).\n"
          ]
        },
        {
          "output_type": "stream",
          "name": "stdout",
          "text": [
            "PER: Barack Obama\n",
            "LOC: Honolulu\n"
          ]
        }
      ]
    },
    {
      "cell_type": "markdown",
      "source": [
        "Modifikasi untuk prompt/konteks (2)"
      ],
      "metadata": {
        "id": "nnRimQTFUPG7"
      }
    },
    {
      "cell_type": "code",
      "source": [
        "from transformers import pipeline\n",
        "\n",
        "ner = pipeline(\"ner\", grouped_entities=True)\n",
        "ner(\"Barack Obama was born in Honolulu.\")"
      ],
      "metadata": {
        "id": "H-uxwPRKDhpB",
        "colab": {
          "base_uri": "https://localhost:8080/"
        },
        "outputId": "91b479c3-1b05-49f9-fd0d-efe35fb88587"
      },
      "execution_count": 27,
      "outputs": [
        {
          "output_type": "stream",
          "name": "stderr",
          "text": [
            "No model was supplied, defaulted to dbmdz/bert-large-cased-finetuned-conll03-english and revision f2482bf (https://huggingface.co/dbmdz/bert-large-cased-finetuned-conll03-english).\n",
            "Using a pipeline without specifying a model name and revision in production is not recommended.\n",
            "Some weights of the model checkpoint at dbmdz/bert-large-cased-finetuned-conll03-english were not used when initializing BertForTokenClassification: ['bert.pooler.dense.bias', 'bert.pooler.dense.weight']\n",
            "- This IS expected if you are initializing BertForTokenClassification from the checkpoint of a model trained on another task or with another architecture (e.g. initializing a BertForSequenceClassification model from a BertForPreTraining model).\n",
            "- This IS NOT expected if you are initializing BertForTokenClassification from the checkpoint of a model that you expect to be exactly identical (initializing a BertForSequenceClassification model from a BertForSequenceClassification model).\n"
          ]
        },
        {
          "output_type": "execute_result",
          "data": {
            "text/plain": [
              "[{'entity_group': 'PER',\n",
              "  'score': 0.9991703,\n",
              "  'word': 'Barack Obama',\n",
              "  'start': 0,\n",
              "  'end': 12},\n",
              " {'entity_group': 'LOC',\n",
              "  'score': 0.9973476,\n",
              "  'word': 'Honolulu',\n",
              "  'start': 25,\n",
              "  'end': 33}]"
            ]
          },
          "metadata": {},
          "execution_count": 27
        }
      ]
    },
    {
      "cell_type": "markdown",
      "source": [
        "Modifikasi Kode (1), di mana menginput secara manual dan bisa menginput banyak pertanyaan untuk isi konteksnya"
      ],
      "metadata": {
        "id": "sRK4FkfCUTvX"
      }
    },
    {
      "cell_type": "code",
      "source": [
        "from transformers import pipeline\n",
        "\n",
        "qa_pipeline = pipeline(\"question-answering\", model=\"distilbert-base-cased-distilled-squad\")\n",
        "\n",
        "# Masukkan konten untuk ditanyakan : Diciptakan oleh Geoffrey Hinton, mesin Boltzmann Terbatas adalah algoritma yang berguna untuk pengurangan -\n",
        "# dimensionalitas, klasifikasi, regresi, penyaringan kolaboratif, pembelajaran fitur, dan pemodelan topik.\n",
        "context = input(\"Enter the context: \")\n",
        "\n",
        "while True:\n",
        "  # Masukkan pertanyaan : Diciptakan oleh siapa? atau algoritma ini berguna untuk?\n",
        "    question = input(\"Enter your question (or type 'exit' to quit): \")\n",
        "    if question.lower() == \"exit\":\n",
        "        break\n",
        "\n",
        "    result = qa_pipeline(question=question, context=context)\n",
        "    print(f\"Answer: {result['answer']}\")"
      ],
      "metadata": {
        "colab": {
          "base_uri": "https://localhost:8080/"
        },
        "id": "mteImfKySfuC",
        "outputId": "14fa144d-fa94-4453-e848-cdc128079788"
      },
      "execution_count": 28,
      "outputs": [
        {
          "name": "stdout",
          "output_type": "stream",
          "text": [
            "Enter the context: Diciptakan oleh Geoffrey Hinton, mesin Boltzmann Terbatas adalah algoritma yang berguna untuk pengurangan - # dimensionalitas, klasifikasi, regresi, penyaringan kolaboratif, pembelajaran fitur, dan pemodelan topik.\n",
            "Enter your question (or type 'exit' to quit): Diciptakan oleh siapa?\n",
            "Answer: Geoffrey Hinton\n",
            "Enter your question (or type 'exit' to quit): algoritma ini berguna untuk?\n",
            "Answer: pengurangan\n",
            "Enter your question (or type 'exit' to quit): Geoffrey Hinton menciptakan apa?\n",
            "Answer: Diciptakan oleh\n",
            "Enter your question (or type 'exit' to quit): pemodelan topik termasuk?\n",
            "Answer: dan\n",
            "Enter your question (or type 'exit' to quit): exit\n"
          ]
        }
      ]
    },
    {
      "cell_type": "markdown",
      "source": [
        "Mengubah prompt/konteks (1)"
      ],
      "metadata": {
        "id": "KEmuq2SlVPgw"
      }
    },
    {
      "cell_type": "code",
      "source": [
        "from transformers import pipeline\n",
        "\n",
        "classifier = pipeline(\"sentiment-analysis\")\n",
        "classifier(\"The sweet and sour shrimp was delicious! I think I'll order grilled chicken next time.\")"
      ],
      "metadata": {
        "id": "U3IZcIeAE41r",
        "colab": {
          "base_uri": "https://localhost:8080/"
        },
        "outputId": "0b1bfb34-a23f-4586-8b73-8ddb2da55a73"
      },
      "execution_count": 29,
      "outputs": [
        {
          "output_type": "stream",
          "name": "stderr",
          "text": [
            "No model was supplied, defaulted to distilbert/distilbert-base-uncased-finetuned-sst-2-english and revision af0f99b (https://huggingface.co/distilbert/distilbert-base-uncased-finetuned-sst-2-english).\n",
            "Using a pipeline without specifying a model name and revision in production is not recommended.\n"
          ]
        },
        {
          "output_type": "execute_result",
          "data": {
            "text/plain": [
              "[{'label': 'POSITIVE', 'score': 0.998896598815918}]"
            ]
          },
          "metadata": {},
          "execution_count": 29
        }
      ]
    },
    {
      "cell_type": "markdown",
      "source": [
        "Mengubah kode (2) tanpa akurasi"
      ],
      "metadata": {
        "id": "qZ_Wmi_TV-dx"
      }
    },
    {
      "cell_type": "code",
      "source": [
        "from transformers import pipeline\n",
        "\n",
        "def analyze_sentiment(text):\n",
        "  classifier = pipeline(\"sentiment-analysis\")\n",
        "  result = classifier(text)[0]\n",
        "  return result['label']\n",
        "\n",
        "text = \"The sweet and sour shrimp was delicious! I think I'll order grilled chicken next time.\"\n",
        "sentiment = analyze_sentiment(text)\n",
        "print(f\"Sentiment: {sentiment}\")"
      ],
      "metadata": {
        "colab": {
          "base_uri": "https://localhost:8080/"
        },
        "id": "ZmN3JZmDWCg8",
        "outputId": "f3de9b1e-405c-4998-8030-86e4bab3af9b"
      },
      "execution_count": 30,
      "outputs": [
        {
          "output_type": "stream",
          "name": "stderr",
          "text": [
            "No model was supplied, defaulted to distilbert/distilbert-base-uncased-finetuned-sst-2-english and revision af0f99b (https://huggingface.co/distilbert/distilbert-base-uncased-finetuned-sst-2-english).\n",
            "Using a pipeline without specifying a model name and revision in production is not recommended.\n"
          ]
        },
        {
          "output_type": "stream",
          "name": "stdout",
          "text": [
            "Sentiment: POSITIVE\n"
          ]
        }
      ]
    },
    {
      "cell_type": "markdown",
      "source": [
        "Mengubah kode dan isi prompt/konteks"
      ],
      "metadata": {
        "id": "ZOPQqxOKWYHV"
      }
    },
    {
      "cell_type": "code",
      "source": [
        "from transformers import pipeline\n",
        "\n",
        "text = \"\"\"\n",
        "The rise of social media has dramatically transformed the way we communicate,\n",
        "share information, and connect with others. Platforms like Facebook, Twitter,\n",
        "and Instagram have become integral parts of our daily lives, enabling us to\n",
        "stay informed about current events, engage in social movements, and maintain\n",
        "relationships with friends and family across the globe. However, social media\n",
        "also has its drawbacks, including the spread of misinformation and the potential\n",
        "for online harassment.\n",
        "\"\"\"\n",
        "\n",
        "summarizer = pipeline(\"summarization\")\n",
        "summary = summarizer(text, min_length=20, max_length=100)[0]['summary_text']\n",
        "\n",
        "print(summary)"
      ],
      "metadata": {
        "colab": {
          "base_uri": "https://localhost:8080/"
        },
        "id": "l-5tixtHWiHT",
        "outputId": "30d525c5-a709-4ea5-d6cc-b17995d477f2"
      },
      "execution_count": 31,
      "outputs": [
        {
          "output_type": "stream",
          "name": "stderr",
          "text": [
            "No model was supplied, defaulted to sshleifer/distilbart-cnn-12-6 and revision a4f8f3e (https://huggingface.co/sshleifer/distilbart-cnn-12-6).\n",
            "Using a pipeline without specifying a model name and revision in production is not recommended.\n"
          ]
        },
        {
          "output_type": "stream",
          "name": "stdout",
          "text": [
            " The rise of social media has transformed the way we communicate, share information, and connect with others . Platforms like Facebook, Twitter, Instagram have become integral parts of our daily lives . However, social media also has its drawbacks, including the spread of misinformation and the potential for online harassment .\n"
          ]
        }
      ]
    },
    {
      "cell_type": "markdown",
      "source": [
        "Mengubah kode dan prompt/ konteks ubah bahasa dari bahasa Japanese ke bahasa Italian"
      ],
      "metadata": {
        "id": "qzZNIWAnXomX"
      }
    },
    {
      "cell_type": "code",
      "source": [
        "from transformers import pipeline\n",
        "\n",
        "def translate_text(text, source_lang, target_lang):\n",
        "  # Model yang akan digunakan\n",
        "  model_name = f\"Helsinki-NLP/opus-mt-{source_lang}-{target_lang}\"\n",
        "  translator = pipeline(\"translation\", model=model_name)\n",
        "  result = translator(text)\n",
        "  return result[0]['translation_text']\n",
        "\n",
        "# Masukkan inputan bahasa Japanese yang ingin di ubah ke bahasa Italian\n",
        "text = \"今日はとても幸せだ！\"  # Japanese for \"I like drawing\"\n",
        "translated_text = translate_text(text, source_lang=\"ja\", target_lang=\"it\")\n",
        "print(translated_text)"
      ],
      "metadata": {
        "colab": {
          "base_uri": "https://localhost:8080/"
        },
        "id": "Q6_PCNm-YAtf",
        "outputId": "b7e9cc04-42b8-4a86-8463-fc6960a7443c"
      },
      "execution_count": 32,
      "outputs": [
        {
          "output_type": "stream",
          "name": "stdout",
          "text": [
            "Sono cosi' felice oggi!\n"
          ]
        }
      ]
    },
    {
      "cell_type": "markdown",
      "source": [
        "# **Analisis Berdasarkan Kode di Atas**\n",
        "\n",
        "Versi yang menurut saya okey adalah zero-shot-classification karena dapat menginput secara manual untuk teks dan labelnya, tanpa harus mengiput kode dari awal hanya tinggal running saja, dan versi lain adalah question-answering karena dapat menginput manual konteks seperti cerita atau biodata dan lainnya, setelah nya dapat menginput manual untuk pertanyaan. Di sini, bisa bertanya tidak hanya sekali dapat 2 kali atau 3 kali dan untuk selesai dapat input exit aja tanpa harus input kode dari awal lagi.\n",
        "\n",
        "**Zero-Shot-Classification**\n",
        "- Zero-Shot-Classification adalah tugas di mana model diminta untuk mengklasisifikasikan teks ke dalam kategori yang belum dilatih secara eksplisit selama fase pelatihan awalnya.\n",
        " - Model menganalisis teks dan membandingkan makna teks masukan dengan makna label kandidat yang disediakan.\n",
        " - Klasifikasi seluruh kalimat\n",
        "\n",
        "**Text-Generation**\n",
        "- Text-Genaration adalah tugas membuat konten teks baru secara otomatis dengan model kecerdasan buatan.\n",
        " - distilgpt2 adalah model bahasa serba guna, artinya model ini dilatih pada kumpulan data teks dan kode yang sangat besar dan beragam.\n",
        " - Klasifikasi seluruh kalimat\n",
        "\n",
        "**Fill-Mask**\n",
        "- Fill-Mask adalah di mana model bahasa yang telah dilatih sebelumnya digunakan untuk memprediksi kata-kata yang hilang.\n",
        " - Memberikan kalimat dengan spasi kosong, dan model akan mencoba menebak kata yang paling mungkin untuk diisikan dispasi tersebut.\n",
        " - Membuat konten teks\n",
        "\n",
        "**Ner**\n",
        "- NER (NAMED ENTITY RECOGNITION) adalah tugas yang melibatkan identifikasi dan pengklasifikasian entitas bernama dalam teks ke dalam kategori yang ditentukan.\n",
        " - Seperti nama orang, lokasi, dan lainnya.\n",
        " - Klasifikasi setiap kata\n",
        "\n",
        "**Question-Answering**\n",
        "- Question-Answering adalah tugas di mana sistem diberi pertanyaan dan konteks dan diharapkan menemukan jawaban atas pertanyaan di dalam konteks.\n",
        "  - Menggunakan loop untuk jawaban, jika \"exit\" maka loop berhenti atau terputus.\n",
        "  - Ekstrak jawaban dari teks\n",
        "\n",
        "**Sentiment-Analysis**\n",
        "- Sentiment-Analysis digunakan untuk menentukan nada emosional dibalik sepotong teks.\n",
        " - Klasifikasi seluruh kalimat\n",
        "\n",
        "**Summarizer**\n",
        "- Summarizer adalah variabel yang mewakili jalur ringkasan teks yang dibuat menggunakan pustaka transformers.\n",
        " - Membuat kalimat baru dari teks masukan\n",
        "\n",
        "**Translated-Text**\n",
        "- Pemanggilan fungsi yang melakukan penerjemahan sesungguhnya. Di mana, kode ini menerjemahkan dari bahasa Jepang ke bahasa Italia\n",
        " - membuat kalimat baru dari teks masukan"
      ],
      "metadata": {
        "id": "FJ2DD_XpY6PC"
      }
    }
  ]
}